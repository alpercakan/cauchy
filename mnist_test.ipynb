{
 "cells": [
  {
   "cell_type": "code",
   "execution_count": 1,
   "metadata": {},
   "outputs": [],
   "source": [
    "%load_ext autoreload\n",
    "%autoreload 2"
   ]
  },
  {
   "cell_type": "code",
   "execution_count": 10,
   "metadata": {},
   "outputs": [],
   "source": [
    "from models import Sequential\n",
    "from layers import Dense, Activation, Softmax\n",
    "from keras.datasets import mnist\n",
    "from keras.utils import to_categorical\n",
    "import numpy as np\n",
    "import matplotlib.pyplot as plt\n",
    "from utils import load_model"
   ]
  },
  {
   "cell_type": "code",
   "execution_count": 3,
   "metadata": {},
   "outputs": [],
   "source": [
    "np.random.seed(42)"
   ]
  },
  {
   "cell_type": "code",
   "execution_count": 4,
   "metadata": {},
   "outputs": [],
   "source": [
    "def load_MNIST(one_hot=True, channel_first=True):\n",
    "    \"\"\"\n",
    "    Load MNIST data\n",
    "    :param one_hot:\n",
    "    :return:\n",
    "    \"\"\"\n",
    "    # Load data\n",
    "    (X_train, y_train), (X_test, y_test) = mnist.load_data()\n",
    "\n",
    "    # Preprocess dataset\n",
    "    # Normalization and reshaping of input.\n",
    "    if channel_first:\n",
    "        X_train = X_train.reshape(X_train.shape[0], 28*28)\n",
    "        X_test = X_test.reshape(X_test.shape[0], 28*28)\n",
    "    else:\n",
    "        X_train = X_train.reshape(X_train.shape[0],  28*28)\n",
    "        X_test = X_test.reshape(X_test.shape[0], 28*28)\n",
    "\n",
    "    X_train = X_train.astype('float32')\n",
    "    X_test = X_test.astype('float32')\n",
    "    X_train /= 255\n",
    "    X_test /= 255\n",
    "\n",
    "    if one_hot:\n",
    "        # For output, it is important to change number to one-hot vector.\n",
    "        y_train = to_categorical(y_train, num_classes=10)\n",
    "        y_test = to_categorical(y_test, num_classes=10)\n",
    "        \n",
    "    X_val = X_test[:1000]\n",
    "    y_val = y_test[:1000]\n",
    "\n",
    "    return X_train, y_train, X_val, y_val, X_test[1000:], y_test[1000:]"
   ]
  },
  {
   "cell_type": "code",
   "execution_count": 5,
   "metadata": {},
   "outputs": [],
   "source": [
    "def after_epoch(model, epoch):\n",
    "    model.save('checkpoints/mnist_checkpoints/{}'.format(epoch))"
   ]
  },
  {
   "cell_type": "code",
   "execution_count": 6,
   "metadata": {},
   "outputs": [],
   "source": [
    "x_train, y_train, x_val, y_val, x_test, y_test = load_MNIST()"
   ]
  },
  {
   "cell_type": "code",
   "execution_count": 7,
   "metadata": {},
   "outputs": [],
   "source": [
    "cl = Sequential()\n",
    "cl.add(Dense(20, input_dim=784))\n",
    "cl.add(Activation('relu', input_dim=20))\n",
    "\n",
    "cl.add(Dense(20, input_dim=20))\n",
    "cl.add(Activation('relu', input_dim=20))\n",
    "\n",
    "cl.add(Dense(10, input_dim=20))\n",
    "cl.add(Activation('relu', input_dim=10))\n",
    "cl.add(Softmax(input_dim=10))\n",
    "\n",
    "cl.compile(0.001, metric='accuracy')"
   ]
  },
  {
   "cell_type": "code",
   "execution_count": 8,
   "metadata": {},
   "outputs": [
    {
     "name": "stdout",
     "output_type": "stream",
     "text": [
      "Started batch 0 of 1875 (epoch 0)\n",
      "Started batch 375 of 1875 (epoch 0)\n",
      "Started batch 750 of 1875 (epoch 0)\n",
      "Started batch 1125 of 1875 (epoch 0)\n",
      "Started batch 1500 of 1875 (epoch 0)\n",
      "Loss of epoch 0 is 0.4164865469658041\n",
      "train_accuracy = 0.9310833333333334\n",
      "val_accuracy = 0.9307777777777778\n",
      "\n",
      "Started batch 0 of 1875 (epoch 1)\n",
      "Started batch 375 of 1875 (epoch 1)\n",
      "Started batch 750 of 1875 (epoch 1)\n",
      "Started batch 1125 of 1875 (epoch 1)\n",
      "Started batch 1500 of 1875 (epoch 1)\n",
      "Loss of epoch 1 is 0.22234472569535796\n",
      "train_accuracy = 0.945\n",
      "val_accuracy = 0.9442222222222222\n",
      "\n",
      "Started batch 0 of 1875 (epoch 2)\n",
      "Started batch 375 of 1875 (epoch 2)\n",
      "Started batch 750 of 1875 (epoch 2)\n",
      "Started batch 1125 of 1875 (epoch 2)\n",
      "Started batch 1500 of 1875 (epoch 2)\n",
      "Loss of epoch 2 is 0.18883160711121086\n",
      "train_accuracy = 0.951\n",
      "val_accuracy = 0.945\n",
      "\n",
      "Started batch 0 of 1875 (epoch 3)\n",
      "Started batch 375 of 1875 (epoch 3)\n",
      "Started batch 750 of 1875 (epoch 3)\n",
      "Started batch 1125 of 1875 (epoch 3)\n",
      "Started batch 1500 of 1875 (epoch 3)\n",
      "Loss of epoch 3 is 0.16952670964609107\n",
      "train_accuracy = 0.95805\n",
      "val_accuracy = 0.9505555555555556\n",
      "\n",
      "Started batch 0 of 1875 (epoch 4)\n",
      "Started batch 375 of 1875 (epoch 4)\n",
      "Started batch 750 of 1875 (epoch 4)\n",
      "Started batch 1125 of 1875 (epoch 4)\n",
      "Started batch 1500 of 1875 (epoch 4)\n",
      "Loss of epoch 4 is 0.158847418270666\n",
      "train_accuracy = 0.96035\n",
      "val_accuracy = 0.9527777777777777\n",
      "\n"
     ]
    }
   ],
   "source": [
    "hist = cl.fit(x_train, y_train, epochs=5, batch_size=32, x_val=x_test, y_val=y_test, after_epoch=after_epoch)"
   ]
  },
  {
   "cell_type": "code",
   "execution_count": 9,
   "metadata": {},
   "outputs": [
    {
     "data": {
      "text/plain": [
       "[<matplotlib.lines.Line2D at 0xb29945ac8>]"
      ]
     },
     "execution_count": 9,
     "metadata": {},
     "output_type": "execute_result"
    },
    {
     "data": {
      "image/png": "[encoded data removed]",
      "text/plain": [
       "<Figure size 432x288 with 1 Axes>"
      ]
     },
     "metadata": {
      "needs_background": "light"
     },
     "output_type": "display_data"
    }
   ],
   "source": [
    "plt.plot(range(5), [hist[i]['train_accuracy'] for i in range(5)])\n",
    "plt.plot(range(5), [hist[i]['val_accuracy'] for i in range(5)])"
   ]
  },
  {
   "cell_type": "markdown",
   "metadata": {},
   "source": [
    "It looks we could benefit from more epochs of training. But let's just load epoch 3 to test the loading feature."
   ]
  },
  {
   "cell_type": "code",
   "execution_count": 16,
   "metadata": {},
   "outputs": [],
   "source": [
    "loaded = load_model('checkpoints/mnist_checkpoints/3')\n",
    "loaded.compile(metric='accuracy')"
   ]
  },
  {
   "cell_type": "code",
   "execution_count": 17,
   "metadata": {},
   "outputs": [
    {
     "data": {
      "text/plain": [
       "0.951"
      ]
     },
     "execution_count": 17,
     "metadata": {},
     "output_type": "execute_result"
    }
   ],
   "source": [
    "loaded.evaluate(x_val, y_val)"
   ]
  },
  {
   "cell_type": "markdown",
   "metadata": {},
   "source": [
    "It seems to be working. Now, let's see the test set performance."
   ]
  },
  {
   "cell_type": "code",
   "execution_count": 18,
   "metadata": {},
   "outputs": [
    {
     "data": {
      "text/plain": [
       "0.9505555555555556"
      ]
     },
     "execution_count": 18,
     "metadata": {},
     "output_type": "execute_result"
    }
   ],
   "source": [
    "loaded.evaluate(x_test, y_test)"
   ]
  },
  {
   "cell_type": "markdown",
   "metadata": {},
   "source": [
    "Looks good enough. We can conclude that the library Cauchy works."
   ]
  },
  {
   "cell_type": "code",
   "execution_count": null,
   "metadata": {},
   "outputs": [],
   "source": []
  }
 ],
 "metadata": {
  "kernelspec": {
   "display_name": "tensorflow_env_p36",
   "language": "python",
   "name": "tensorflow_env_p36"
  },
  "language_info": {
   "codemirror_mode": {
    "name": "ipython",
    "version": 3
   },
   "file_extension": ".py",
   "mimetype": "text/x-python",
   "name": "python",
   "nbconvert_exporter": "python",
   "pygments_lexer": "ipython3",
   "version": "3.6.8"
  }
 },
 "nbformat": 4,
 "nbformat_minor": 2
}
